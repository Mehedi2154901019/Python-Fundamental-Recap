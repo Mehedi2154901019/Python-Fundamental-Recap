{
 "cells": [
  {
   "cell_type": "code",
   "execution_count": null,
   "id": "eebbce23",
   "metadata": {},
   "outputs": [],
   "source": []
  },
  {
   "cell_type": "markdown",
   "id": "d69aaf21",
   "metadata": {},
   "source": [
    "Escape Sequence"
   ]
  },
  {
   "cell_type": "code",
   "execution_count": 3,
   "id": "7423664e",
   "metadata": {},
   "outputs": [
    {
     "name": "stdout",
     "output_type": "stream",
     "text": [
      "Hello \"This\" is escape sequence\n"
     ]
    }
   ],
   "source": [
    "print(\"Hello \\\"This\\\" is escape sequence\")"
   ]
  },
  {
   "cell_type": "markdown",
   "id": "72d1f617",
   "metadata": {},
   "source": [
    "Formatted String"
   ]
  },
  {
   "cell_type": "code",
   "execution_count": 12,
   "id": "3e4a46b5",
   "metadata": {},
   "outputs": [],
   "source": [
    "x=100\n",
    "y=20"
   ]
  },
  {
   "cell_type": "code",
   "execution_count": 14,
   "id": "9f99434a",
   "metadata": {},
   "outputs": [
    {
     "name": "stdout",
     "output_type": "stream",
     "text": [
      "Hello I am 100 & He is 20\n"
     ]
    }
   ],
   "source": [
    "print(f\"Hello I am {x} & He is {y}\")"
   ]
  },
  {
   "cell_type": "markdown",
   "id": "ca0fd324",
   "metadata": {},
   "source": [
    "String Method"
   ]
  },
  {
   "cell_type": "code",
   "execution_count": 16,
   "id": "adbbba05",
   "metadata": {},
   "outputs": [
    {
     "name": "stdout",
     "output_type": "stream",
     "text": [
      "Python Programming\n"
     ]
    }
   ],
   "source": [
    "course='python programming'\n",
    "print(course.title())"
   ]
  },
  {
   "cell_type": "code",
   "execution_count": 19,
   "id": "a09b2669",
   "metadata": {},
   "outputs": [
    {
     "name": "stdout",
     "output_type": "stream",
     "text": [
      "kython krogramming\n"
     ]
    }
   ],
   "source": [
    "print(course.replace(\"p\",\"k\"))"
   ]
  },
  {
   "cell_type": "markdown",
   "id": "1f132062",
   "metadata": {},
   "source": [
    "Complex Number"
   ]
  },
  {
   "cell_type": "code",
   "execution_count": 20,
   "id": "fe969141",
   "metadata": {},
   "outputs": [
    {
     "data": {
      "text/plain": [
       "(1+2j)"
      ]
     },
     "execution_count": 20,
     "metadata": {},
     "output_type": "execute_result"
    }
   ],
   "source": [
    "1+2j"
   ]
  },
  {
   "cell_type": "markdown",
   "id": "cee1f463",
   "metadata": {},
   "source": [
    "Integer after division"
   ]
  },
  {
   "cell_type": "code",
   "execution_count": 21,
   "id": "68a9d12a",
   "metadata": {},
   "outputs": [
    {
     "data": {
      "text/plain": [
       "3"
      ]
     },
     "execution_count": 21,
     "metadata": {},
     "output_type": "execute_result"
    }
   ],
   "source": [
    "10//3"
   ]
  },
  {
   "cell_type": "markdown",
   "id": "5b528a44",
   "metadata": {},
   "source": [
    "Numbers"
   ]
  },
  {
   "cell_type": "code",
   "execution_count": null,
   "id": "0e79980c",
   "metadata": {},
   "outputs": [
    {
     "data": {
      "text/plain": [
       "30"
      ]
     },
     "execution_count": 23,
     "metadata": {},
     "output_type": "execute_result"
    }
   ],
   "source": [
    "round(4.3)"
   ]
  },
  {
   "cell_type": "code",
   "execution_count": 24,
   "id": "8f1f7525",
   "metadata": {},
   "outputs": [
    {
     "data": {
      "text/plain": [
       "30"
      ]
     },
     "execution_count": 24,
     "metadata": {},
     "output_type": "execute_result"
    }
   ],
   "source": [
    "abs(-30)"
   ]
  },
  {
   "cell_type": "markdown",
   "id": "a7a3e227",
   "metadata": {},
   "source": [
    "math Library"
   ]
  },
  {
   "cell_type": "code",
   "execution_count": 26,
   "id": "c487295e",
   "metadata": {},
   "outputs": [],
   "source": [
    "import math"
   ]
  },
  {
   "cell_type": "code",
   "execution_count": 27,
   "id": "eca40f97",
   "metadata": {},
   "outputs": [
    {
     "data": {
      "text/plain": [
       "4"
      ]
     },
     "execution_count": 27,
     "metadata": {},
     "output_type": "execute_result"
    }
   ],
   "source": [
    "math.ceil(3.1)"
   ]
  },
  {
   "cell_type": "code",
   "execution_count": 28,
   "id": "d5357ee8",
   "metadata": {},
   "outputs": [
    {
     "data": {
      "text/plain": [
       "120"
      ]
     },
     "execution_count": 28,
     "metadata": {},
     "output_type": "execute_result"
    }
   ],
   "source": [
    "math.factorial(5)"
   ]
  },
  {
   "cell_type": "markdown",
   "id": "7d984a53",
   "metadata": {},
   "source": [
    "Ternary Operator"
   ]
  },
  {
   "cell_type": "code",
   "execution_count": 31,
   "id": "2708547b",
   "metadata": {},
   "outputs": [
    {
     "name": "stdout",
     "output_type": "stream",
     "text": [
      "Eligible\n"
     ]
    }
   ],
   "source": [
    "age=29\n",
    "message=\"Eligible\" if age>=18 else \"Not Eligible\"\n",
    "print(message)"
   ]
  },
  {
   "cell_type": "markdown",
   "id": "b1d041ee",
   "metadata": {},
   "source": [
    "Chaining Comparison Operators"
   ]
  },
  {
   "cell_type": "code",
   "execution_count": 32,
   "id": "c94f223e",
   "metadata": {},
   "outputs": [
    {
     "name": "stdout",
     "output_type": "stream",
     "text": [
      "okay\n"
     ]
    }
   ],
   "source": [
    "if 10>5>1:\n",
    "    print('okay')"
   ]
  },
  {
   "cell_type": "markdown",
   "id": "de1485cc",
   "metadata": {},
   "source": [
    "while loop"
   ]
  },
  {
   "cell_type": "code",
   "execution_count": 1,
   "id": "f452f5a8",
   "metadata": {},
   "outputs": [
    {
     "name": "stdout",
     "output_type": "stream",
     "text": [
      "100\n",
      "50\n",
      "25\n",
      "12\n",
      "6\n",
      "3\n",
      "1\n"
     ]
    }
   ],
   "source": [
    "num=100\n",
    "while num>0:\n",
    "    print(num)\n",
    "    num//=2\n",
    "    "
   ]
  },
  {
   "cell_type": "markdown",
   "id": "df67b749",
   "metadata": {},
   "source": [
    "Argument and parameter"
   ]
  },
  {
   "cell_type": "code",
   "execution_count": null,
   "id": "799461b0",
   "metadata": {},
   "outputs": [
    {
     "name": "stdout",
     "output_type": "stream",
     "text": [
      "5+10=15\n"
     ]
    }
   ],
   "source": [
    "def sum(a,b): #parameter\n",
    "    print(f\"{a}+{b}={a+b}\")\n",
    "\n",
    "sum(5,10) #argument"
   ]
  },
  {
   "cell_type": "code",
   "execution_count": 4,
   "id": "487725c6",
   "metadata": {},
   "outputs": [
    {
     "name": "stdout",
     "output_type": "stream",
     "text": [
      "Hi Mehedi!\n"
     ]
    }
   ],
   "source": [
    "def greet(name):\n",
    "    return f\"Hi {name}\"\n",
    "\n",
    "print(greet(\"Mehedi!\"))"
   ]
  },
  {
   "cell_type": "markdown",
   "id": "d43c4c22",
   "metadata": {},
   "source": [
    "List Comprehension"
   ]
  },
  {
   "cell_type": "code",
   "execution_count": 1,
   "id": "9813f6e8",
   "metadata": {},
   "outputs": [
    {
     "data": {
      "text/plain": [
       "[1, 4, 9, 16, 25]"
      ]
     },
     "execution_count": 1,
     "metadata": {},
     "output_type": "execute_result"
    }
   ],
   "source": [
    "[x**2 for x in range(1,6)]"
   ]
  },
  {
   "cell_type": "code",
   "execution_count": 4,
   "id": "14291c40",
   "metadata": {},
   "outputs": [
    {
     "name": "stdout",
     "output_type": "stream",
     "text": [
      "[5, 0, 8, 0, 0]\n"
     ]
    }
   ],
   "source": [
    "nums = [5, -3, 8, -1, 0]\n",
    "cleaned = [x if x>0 else 0 for x in nums]\n",
    "print(cleaned)"
   ]
  }
 ],
 "metadata": {
  "kernelspec": {
   "display_name": "Python 3",
   "language": "python",
   "name": "python3"
  },
  "language_info": {
   "codemirror_mode": {
    "name": "ipython",
    "version": 3
   },
   "file_extension": ".py",
   "mimetype": "text/x-python",
   "name": "python",
   "nbconvert_exporter": "python",
   "pygments_lexer": "ipython3",
   "version": "3.12.6"
  }
 },
 "nbformat": 4,
 "nbformat_minor": 5
}
